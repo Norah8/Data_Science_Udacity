{
 "cells": [
  {
   "cell_type": "markdown",
   "metadata": {},
   "source": [
    "## Analyzing used cars' ads in Saudi Arabia"
   ]
  },
  {
   "cell_type": "markdown",
   "metadata": {},
   "source": [
    "The data used in this project from Kaggle, here: https://www.kaggle.com/datasets/turkibintalib/saudi-arabia-used-cars-dataset\n",
    "\n",
    "\n",
    "The objective of this analysis is to give insight into used car ads to help you if you think to buy or sell a used car!"
   ]
  },
  {
   "cell_type": "markdown",
   "metadata": {},
   "source": [
    "### Business Understanding\n",
    "The main questions the analysis will focus on:\n",
    "\n",
    "- When were the used cars on the website manufcutured?\n",
    "- Who's the largest car maker in these advertisements?\n",
    "- What's the price range for the used cars? can be reached to million or half million?"
   ]
  },
  {
   "cell_type": "code",
   "execution_count": 55,
   "metadata": {},
   "outputs": [],
   "source": [
    "import pandas as pd\n",
    "import numpy as np\n",
    "import seaborn as sns\n",
    "import matplotlib.pyplot as plt\n",
    "from sklearn.linear_model import LinearRegression\n",
    "from sklearn.model_selection import train_test_split\n",
    "from sklearn.metrics import r2_score, mean_squared_error\n"
   ]
  },
  {
   "cell_type": "markdown",
   "metadata": {},
   "source": [
    "### Data Processing\n"
   ]
  },
  {
   "cell_type": "code",
   "execution_count": 75,
   "metadata": {},
   "outputs": [],
   "source": [
    "car =pd.read_csv(\"UsedCarsSA_Unclean_EN.csv\")"
   ]
  },
  {
   "cell_type": "code",
   "execution_count": 76,
   "metadata": {},
   "outputs": [
    {
     "data": {
      "text/html": [
       "<div>\n",
       "<style scoped>\n",
       "    .dataframe tbody tr th:only-of-type {\n",
       "        vertical-align: middle;\n",
       "    }\n",
       "\n",
       "    .dataframe tbody tr th {\n",
       "        vertical-align: top;\n",
       "    }\n",
       "\n",
       "    .dataframe thead th {\n",
       "        text-align: right;\n",
       "    }\n",
       "</style>\n",
       "<table border=\"1\" class=\"dataframe\">\n",
       "  <thead>\n",
       "    <tr style=\"text-align: right;\">\n",
       "      <th></th>\n",
       "      <th>Link</th>\n",
       "      <th>Make</th>\n",
       "      <th>Type</th>\n",
       "      <th>Year</th>\n",
       "      <th>Origin</th>\n",
       "      <th>Color</th>\n",
       "      <th>Options</th>\n",
       "      <th>Engine_Size</th>\n",
       "      <th>Fuel_Type</th>\n",
       "      <th>Gear_Type</th>\n",
       "      <th>Condition</th>\n",
       "      <th>Mileage</th>\n",
       "      <th>Region</th>\n",
       "      <th>Price</th>\n",
       "      <th>Negotiable</th>\n",
       "    </tr>\n",
       "  </thead>\n",
       "  <tbody>\n",
       "    <tr>\n",
       "      <th>0</th>\n",
       "      <td>https://syarah.com/%D9%83%D8%B1%D8%A7%D9%8A%D8...</td>\n",
       "      <td>Chrysler</td>\n",
       "      <td>C300</td>\n",
       "      <td>2018</td>\n",
       "      <td>Saudi</td>\n",
       "      <td>Black</td>\n",
       "      <td>Full</td>\n",
       "      <td>5.7</td>\n",
       "      <td>Gas</td>\n",
       "      <td>Automatic</td>\n",
       "      <td>Used</td>\n",
       "      <td>103000</td>\n",
       "      <td>Riyadh</td>\n",
       "      <td>114000</td>\n",
       "      <td>False</td>\n",
       "    </tr>\n",
       "    <tr>\n",
       "      <th>1</th>\n",
       "      <td>https://syarah.com/%D9%86%D9%8A%D8%B3%D8%A7%D9...</td>\n",
       "      <td>Nissan</td>\n",
       "      <td>Patrol</td>\n",
       "      <td>2016</td>\n",
       "      <td>Saudi</td>\n",
       "      <td>White</td>\n",
       "      <td>Full</td>\n",
       "      <td>4.8</td>\n",
       "      <td>Gas</td>\n",
       "      <td>Automatic</td>\n",
       "      <td>Used</td>\n",
       "      <td>5448</td>\n",
       "      <td>Riyadh</td>\n",
       "      <td>Negotiable</td>\n",
       "      <td>True</td>\n",
       "    </tr>\n",
       "    <tr>\n",
       "      <th>2</th>\n",
       "      <td>https://syarah.com/online/%D9%86%D9%8A%D8%B3%D...</td>\n",
       "      <td>Nissan</td>\n",
       "      <td>Sunny</td>\n",
       "      <td>2019</td>\n",
       "      <td>Saudi</td>\n",
       "      <td>Silver</td>\n",
       "      <td>Standard</td>\n",
       "      <td>1.5</td>\n",
       "      <td>Gas</td>\n",
       "      <td>Automatic</td>\n",
       "      <td>Used</td>\n",
       "      <td>72418</td>\n",
       "      <td>Riyadh</td>\n",
       "      <td>27500</td>\n",
       "      <td>False</td>\n",
       "    </tr>\n",
       "    <tr>\n",
       "      <th>3</th>\n",
       "      <td>https://syarah.com/online/%D9%87%D9%88%D9%86%D...</td>\n",
       "      <td>Hyundai</td>\n",
       "      <td>Elantra</td>\n",
       "      <td>2019</td>\n",
       "      <td>Saudi</td>\n",
       "      <td>Grey</td>\n",
       "      <td>Standard</td>\n",
       "      <td>1.6</td>\n",
       "      <td>Gas</td>\n",
       "      <td>Automatic</td>\n",
       "      <td>Used</td>\n",
       "      <td>114154</td>\n",
       "      <td>Riyadh</td>\n",
       "      <td>43000</td>\n",
       "      <td>False</td>\n",
       "    </tr>\n",
       "    <tr>\n",
       "      <th>4</th>\n",
       "      <td>https://syarah.com/online/%D9%87%D9%88%D9%86%D...</td>\n",
       "      <td>Hyundai</td>\n",
       "      <td>Elantra</td>\n",
       "      <td>2019</td>\n",
       "      <td>Saudi</td>\n",
       "      <td>Silver</td>\n",
       "      <td>Semi Full</td>\n",
       "      <td>2.0</td>\n",
       "      <td>Gas</td>\n",
       "      <td>Automatic</td>\n",
       "      <td>Used</td>\n",
       "      <td>41912</td>\n",
       "      <td>Riyadh</td>\n",
       "      <td>59500</td>\n",
       "      <td>False</td>\n",
       "    </tr>\n",
       "  </tbody>\n",
       "</table>\n",
       "</div>"
      ],
      "text/plain": [
       "                                                Link      Make     Type  Year  \\\n",
       "0  https://syarah.com/%D9%83%D8%B1%D8%A7%D9%8A%D8...  Chrysler     C300  2018   \n",
       "1  https://syarah.com/%D9%86%D9%8A%D8%B3%D8%A7%D9...    Nissan   Patrol  2016   \n",
       "2  https://syarah.com/online/%D9%86%D9%8A%D8%B3%D...    Nissan    Sunny  2019   \n",
       "3  https://syarah.com/online/%D9%87%D9%88%D9%86%D...   Hyundai  Elantra  2019   \n",
       "4  https://syarah.com/online/%D9%87%D9%88%D9%86%D...   Hyundai  Elantra  2019   \n",
       "\n",
       "  Origin   Color    Options  Engine_Size Fuel_Type  Gear_Type Condition  \\\n",
       "0  Saudi   Black       Full          5.7       Gas  Automatic      Used   \n",
       "1  Saudi   White       Full          4.8       Gas  Automatic      Used   \n",
       "2  Saudi  Silver   Standard          1.5       Gas  Automatic      Used   \n",
       "3  Saudi    Grey   Standard          1.6       Gas  Automatic      Used   \n",
       "4  Saudi  Silver  Semi Full          2.0       Gas  Automatic      Used   \n",
       "\n",
       "   Mileage  Region       Price  Negotiable  \n",
       "0   103000  Riyadh      114000       False  \n",
       "1     5448  Riyadh  Negotiable        True  \n",
       "2    72418  Riyadh       27500       False  \n",
       "3   114154  Riyadh       43000       False  \n",
       "4    41912  Riyadh       59500       False  "
      ]
     },
     "execution_count": 76,
     "metadata": {},
     "output_type": "execute_result"
    }
   ],
   "source": [
    "car.head()"
   ]
  },
  {
   "cell_type": "code",
   "execution_count": 77,
   "metadata": {},
   "outputs": [
    {
     "data": {
      "text/plain": [
       "(8248, 15)"
      ]
     },
     "execution_count": 77,
     "metadata": {},
     "output_type": "execute_result"
    }
   ],
   "source": [
    "car.shape"
   ]
  },
  {
   "cell_type": "code",
   "execution_count": 78,
   "metadata": {},
   "outputs": [
    {
     "name": "stdout",
     "output_type": "stream",
     "text": [
      "<class 'pandas.core.frame.DataFrame'>\n",
      "RangeIndex: 8248 entries, 0 to 8247\n",
      "Data columns (total 15 columns):\n",
      " #   Column       Non-Null Count  Dtype  \n",
      "---  ------       --------------  -----  \n",
      " 0   Link         8248 non-null   object \n",
      " 1   Make         8248 non-null   object \n",
      " 2   Type         8248 non-null   object \n",
      " 3   Year         8248 non-null   int64  \n",
      " 4   Origin       8153 non-null   object \n",
      " 5   Color        8248 non-null   object \n",
      " 6   Options      8139 non-null   object \n",
      " 7   Engine_Size  5982 non-null   float64\n",
      " 8   Fuel_Type    8248 non-null   object \n",
      " 9   Gear_Type    8174 non-null   object \n",
      " 10  Condition    8248 non-null   object \n",
      " 11  Mileage      8248 non-null   int64  \n",
      " 12  Region       8248 non-null   object \n",
      " 13  Price        8248 non-null   object \n",
      " 14  Negotiable   8248 non-null   bool   \n",
      "dtypes: bool(1), float64(1), int64(2), object(11)\n",
      "memory usage: 910.3+ KB\n"
     ]
    }
   ],
   "source": [
    "car.info()"
   ]
  },
  {
   "cell_type": "code",
   "execution_count": 79,
   "metadata": {},
   "outputs": [
    {
     "data": {
      "text/plain": [
       "20"
      ]
     },
     "execution_count": 79,
     "metadata": {},
     "output_type": "execute_result"
    }
   ],
   "source": [
    "len(car[car.duplicated() == True])"
   ]
  },
  {
   "cell_type": "code",
   "execution_count": 80,
   "metadata": {},
   "outputs": [
    {
     "data": {
      "text/plain": [
       "0"
      ]
     },
     "execution_count": 80,
     "metadata": {},
     "output_type": "execute_result"
    }
   ],
   "source": [
    "car.drop_duplicates(inplace=True)\n",
    "len(car[car.duplicated() == True])"
   ]
  },
  {
   "cell_type": "code",
   "execution_count": 100,
   "metadata": {},
   "outputs": [
    {
     "data": {
      "text/plain": [
       "Make              0\n",
       "Type              0\n",
       "Year              0\n",
       "Origin           27\n",
       "Color             0\n",
       "Options          41\n",
       "Engine_Size    1223\n",
       "Fuel_Type         0\n",
       "Gear_Type        19\n",
       "Mileage           0\n",
       "Region            0\n",
       "Price             0\n",
       "Negotiable        0\n",
       "dtype: int64"
      ]
     },
     "execution_count": 100,
     "metadata": {},
     "output_type": "execute_result"
    }
   ],
   "source": [
    "car.isna().sum()"
   ]
  },
  {
   "cell_type": "code",
   "execution_count": 81,
   "metadata": {},
   "outputs": [],
   "source": [
    "## Drop unnassesary columns\n",
    "car.drop(['Link', 'Condition'], axis=1, inplace= True)"
   ]
  },
  {
   "cell_type": "markdown",
   "metadata": {},
   "source": [
    "#### The most important column in data: Price, but the type of this column is object, \n",
    "#### before cleaning this column and converting its type, let's look into it: \n",
    "#### There's 31% data, the price is negotiable; we can drop them, but before losing this data, we'll analyze other columns"
   ]
  },
  {
   "cell_type": "code",
   "execution_count": 82,
   "metadata": {},
   "outputs": [
    {
     "data": {
      "text/plain": [
       "Negotiable    2592\n",
       "45000          141\n",
       "35000          127\n",
       "55000          127\n",
       "30000          120\n",
       "              ... \n",
       "345000           1\n",
       "428000           1\n",
       "169500           1\n",
       "1000             1\n",
       "1                1\n",
       "Name: Price, Length: 549, dtype: int64"
      ]
     },
     "execution_count": 82,
     "metadata": {},
     "output_type": "execute_result"
    }
   ],
   "source": [
    "car['Price'].value_counts()"
   ]
  },
  {
   "cell_type": "code",
   "execution_count": 83,
   "metadata": {},
   "outputs": [
    {
     "data": {
      "text/plain": [
       "(2592, 13)"
      ]
     },
     "execution_count": 83,
     "metadata": {},
     "output_type": "execute_result"
    }
   ],
   "source": [
    "car[car['Price'] == 'Negotiable'].shape"
   ]
  },
  {
   "cell_type": "code",
   "execution_count": 84,
   "metadata": {},
   "outputs": [
    {
     "data": {
      "image/png": "[encoded data removed]",
      "text/plain": [
       "<Figure size 432x432 with 1 Axes>"
      ]
     },
     "metadata": {},
     "output_type": "display_data"
    }
   ],
   "source": [
    "# visualize the percentage of used cars that are Negotiable\n",
    "\n",
    "Negotiable_figure = car['Negotiable'].value_counts().plot(kind= 'pie', figsize=(6, 6), autopct='%1.0f%%', \n",
    "                                              fontsize = 14, colors = ['steelblue', 'pink']);\n",
    "Negotiable_figure.set_title(\"Is Price Negotiable?!\", fontsize = 16);\n"
   ]
  },
  {
   "cell_type": "code",
   "execution_count": 85,
   "metadata": {},
   "outputs": [
    {
     "data": {
      "image/png": "[encoded data removed]",
      "text/plain": [
       "<Figure size 432x432 with 1 Axes>"
      ]
     },
     "metadata": {},
     "output_type": "display_data"
    }
   ],
   "source": [
    "# visualize the cars types that are Negotiable\n",
    "\n",
    "figure= car[car['Negotiable'] == True][['Type', 'Year']].value_counts()[:3].plot(kind= 'pie', figsize=(6, 6),\n",
    "                                                                                 autopct='%1.0f%%', \n",
    "                                              fontsize = 14, colors = ['steelblue', 'pink', 'silver'])\n",
    "figure.set_title(\"Top cars that are most negotiable prices\", fontsize = 16);"
   ]
  },
  {
   "cell_type": "markdown",
   "metadata": {},
   "source": [
    "#### From the previous pie chart, it appears cars from 2013, so will focus on the year column in the following cells"
   ]
  },
  {
   "cell_type": "code",
   "execution_count": 86,
   "metadata": {},
   "outputs": [
    {
     "data": {
      "text/html": [
       "<div>\n",
       "<style scoped>\n",
       "    .dataframe tbody tr th:only-of-type {\n",
       "        vertical-align: middle;\n",
       "    }\n",
       "\n",
       "    .dataframe tbody tr th {\n",
       "        vertical-align: top;\n",
       "    }\n",
       "\n",
       "    .dataframe thead th {\n",
       "        text-align: right;\n",
       "    }\n",
       "</style>\n",
       "<table border=\"1\" class=\"dataframe\">\n",
       "  <thead>\n",
       "    <tr style=\"text-align: right;\">\n",
       "      <th></th>\n",
       "      <th>Make</th>\n",
       "      <th>Type</th>\n",
       "      <th>Year</th>\n",
       "      <th>Origin</th>\n",
       "      <th>Color</th>\n",
       "      <th>Options</th>\n",
       "      <th>Engine_Size</th>\n",
       "      <th>Fuel_Type</th>\n",
       "      <th>Gear_Type</th>\n",
       "      <th>Mileage</th>\n",
       "      <th>Region</th>\n",
       "      <th>Price</th>\n",
       "      <th>Negotiable</th>\n",
       "    </tr>\n",
       "  </thead>\n",
       "  <tbody>\n",
       "    <tr>\n",
       "      <th>2843</th>\n",
       "      <td>Classic</td>\n",
       "      <td>Jaguar</td>\n",
       "      <td>1936</td>\n",
       "      <td>Other</td>\n",
       "      <td>Bronze</td>\n",
       "      <td>Full</td>\n",
       "      <td>NaN</td>\n",
       "      <td>Gas</td>\n",
       "      <td>Automatic</td>\n",
       "      <td>4750</td>\n",
       "      <td>Tabouk</td>\n",
       "      <td>Negotiable</td>\n",
       "      <td>True</td>\n",
       "    </tr>\n",
       "  </tbody>\n",
       "</table>\n",
       "</div>"
      ],
      "text/plain": [
       "         Make    Type  Year Origin   Color Options  Engine_Size Fuel_Type  \\\n",
       "2843  Classic  Jaguar  1936  Other  Bronze    Full          NaN       Gas   \n",
       "\n",
       "      Gear_Type  Mileage  Region       Price  Negotiable  \n",
       "2843  Automatic     4750  Tabouk  Negotiable        True  "
      ]
     },
     "execution_count": 86,
     "metadata": {},
     "output_type": "execute_result"
    }
   ],
   "source": [
    "# older car in data\n",
    "car[car['Year'] == car['Year'].min()]"
   ]
  },
  {
   "cell_type": "code",
   "execution_count": 87,
   "metadata": {},
   "outputs": [
    {
     "data": {
      "text/plain": [
       "Type          Year\n",
       "Suburban      1999    10\n",
       "              1994     7\n",
       "Land Cruiser  1997     6\n",
       "Cressida      1996     6\n",
       "Victoria      1999     5\n",
       "                      ..\n",
       "Gloria        1999     1\n",
       "Fleetwood     1991     1\n",
       "              1990     1\n",
       "Eldorado      1968     1\n",
       "Yukon         1995     1\n",
       "Length: 164, dtype: int64"
      ]
     },
     "execution_count": 87,
     "metadata": {},
     "output_type": "execute_result"
    }
   ],
   "source": [
    "# most older car in data\n",
    "car[car['Year'] < 2000][['Type', 'Year']].value_counts()"
   ]
  },
  {
   "cell_type": "code",
   "execution_count": 88,
   "metadata": {
    "scrolled": true
   },
   "outputs": [
    {
     "data": {
      "text/html": [
       "<style type=\"text/css\">\n",
       "#T_9161d_row0_col1, #T_9161d_row0_col2 {\n",
       "  width: 10em;\n",
       "  height: 80%;\n",
       "  background: linear-gradient(90deg,steelblue 100.0%, transparent 100.0%);\n",
       "}\n",
       "#T_9161d_row1_col1 {\n",
       "  width: 10em;\n",
       "  height: 80%;\n",
       "  background: linear-gradient(90deg,steelblue 59.7%, transparent 59.7%);\n",
       "}\n",
       "#T_9161d_row1_col2, #T_9161d_row2_col1, #T_9161d_row2_col2 {\n",
       "  width: 10em;\n",
       "  height: 80%;\n",
       "  background: linear-gradient(90deg,steelblue 58.3%, transparent 58.3%);\n",
       "}\n",
       "#T_9161d_row3_col1 {\n",
       "  width: 10em;\n",
       "  height: 80%;\n",
       "  background: linear-gradient(90deg,steelblue 53.9%, transparent 53.9%);\n",
       "}\n",
       "#T_9161d_row3_col2 {\n",
       "  width: 10em;\n",
       "  height: 80%;\n",
       "  background: linear-gradient(90deg,steelblue 50.0%, transparent 50.0%);\n",
       "}\n",
       "#T_9161d_row4_col1 {\n",
       "  width: 10em;\n",
       "  height: 80%;\n",
       "  background: linear-gradient(90deg,steelblue 39.8%, transparent 39.8%);\n",
       "}\n",
       "#T_9161d_row4_col2 {\n",
       "  width: 10em;\n",
       "  height: 80%;\n",
       "  background: linear-gradient(90deg,steelblue 41.7%, transparent 41.7%);\n",
       "}\n",
       "#T_9161d_row5_col1 {\n",
       "  width: 10em;\n",
       "  height: 80%;\n",
       "  background: linear-gradient(90deg,steelblue 32.5%, transparent 32.5%);\n",
       "}\n",
       "#T_9161d_row5_col2, #T_9161d_row6_col2 {\n",
       "  width: 10em;\n",
       "  height: 80%;\n",
       "  background: linear-gradient(90deg,steelblue 33.3%, transparent 33.3%);\n",
       "}\n",
       "#T_9161d_row6_col1 {\n",
       "  width: 10em;\n",
       "  height: 80%;\n",
       "  background: linear-gradient(90deg,steelblue 31.5%, transparent 31.5%);\n",
       "}\n",
       "#T_9161d_row7_col1 {\n",
       "  width: 10em;\n",
       "  height: 80%;\n",
       "  background: linear-gradient(90deg,steelblue 26.8%, transparent 26.8%);\n",
       "}\n",
       "#T_9161d_row7_col2 {\n",
       "  width: 10em;\n",
       "  height: 80%;\n",
       "  background: linear-gradient(90deg,steelblue 25.0%, transparent 25.0%);\n",
       "}\n",
       "#T_9161d_row8_col1 {\n",
       "  width: 10em;\n",
       "  height: 80%;\n",
       "  background: linear-gradient(90deg,steelblue 6.4%, transparent 6.4%);\n",
       "}\n",
       "#T_9161d_row8_col2 {\n",
       "  width: 10em;\n",
       "  height: 80%;\n",
       "  background: linear-gradient(90deg,steelblue 8.3%, transparent 8.3%);\n",
       "}\n",
       "#T_9161d_row9_col1, #T_9161d_row9_col2 {\n",
       "  width: 10em;\n",
       "  height: 80%;\n",
       "}\n",
       "</style>\n",
       "<table id=\"T_9161d_\">\n",
       "  <thead>\n",
       "    <tr>\n",
       "      <th class=\"blank level0\" >&nbsp;</th>\n",
       "      <th class=\"col_heading level0 col0\" >Year</th>\n",
       "      <th class=\"col_heading level0 col1\" >Count</th>\n",
       "      <th class=\"col_heading level0 col2\" >Percentage</th>\n",
       "    </tr>\n",
       "  </thead>\n",
       "  <tbody>\n",
       "    <tr>\n",
       "      <th id=\"T_9161d_level0_row0\" class=\"row_heading level0 row0\" >0</th>\n",
       "      <td id=\"T_9161d_row0_col0\" class=\"data row0 col0\" >2016</td>\n",
       "      <td id=\"T_9161d_row0_col1\" class=\"data row0 col1\" >1212</td>\n",
       "      <td id=\"T_9161d_row0_col2\" class=\"data row0 col2\" >0.150000</td>\n",
       "    </tr>\n",
       "    <tr>\n",
       "      <th id=\"T_9161d_level0_row1\" class=\"row_heading level0 row1\" >1</th>\n",
       "      <td id=\"T_9161d_row1_col0\" class=\"data row1 col0\" >2015</td>\n",
       "      <td id=\"T_9161d_row1_col1\" class=\"data row1 col1\" >830</td>\n",
       "      <td id=\"T_9161d_row1_col2\" class=\"data row1 col2\" >0.100000</td>\n",
       "    </tr>\n",
       "    <tr>\n",
       "      <th id=\"T_9161d_level0_row2\" class=\"row_heading level0 row2\" >2</th>\n",
       "      <td id=\"T_9161d_row2_col0\" class=\"data row2 col0\" >2017</td>\n",
       "      <td id=\"T_9161d_row2_col1\" class=\"data row2 col1\" >817</td>\n",
       "      <td id=\"T_9161d_row2_col2\" class=\"data row2 col2\" >0.100000</td>\n",
       "    </tr>\n",
       "    <tr>\n",
       "      <th id=\"T_9161d_level0_row3\" class=\"row_heading level0 row3\" >3</th>\n",
       "      <td id=\"T_9161d_row3_col0\" class=\"data row3 col0\" >2018</td>\n",
       "      <td id=\"T_9161d_row3_col1\" class=\"data row3 col1\" >775</td>\n",
       "      <td id=\"T_9161d_row3_col2\" class=\"data row3 col2\" >0.090000</td>\n",
       "    </tr>\n",
       "    <tr>\n",
       "      <th id=\"T_9161d_level0_row4\" class=\"row_heading level0 row4\" >4</th>\n",
       "      <td id=\"T_9161d_row4_col0\" class=\"data row4 col0\" >2019</td>\n",
       "      <td id=\"T_9161d_row4_col1\" class=\"data row4 col1\" >641</td>\n",
       "      <td id=\"T_9161d_row4_col2\" class=\"data row4 col2\" >0.080000</td>\n",
       "    </tr>\n",
       "    <tr>\n",
       "      <th id=\"T_9161d_level0_row5\" class=\"row_heading level0 row5\" >5</th>\n",
       "      <td id=\"T_9161d_row5_col0\" class=\"data row5 col0\" >2014</td>\n",
       "      <td id=\"T_9161d_row5_col1\" class=\"data row5 col1\" >572</td>\n",
       "      <td id=\"T_9161d_row5_col2\" class=\"data row5 col2\" >0.070000</td>\n",
       "    </tr>\n",
       "    <tr>\n",
       "      <th id=\"T_9161d_level0_row6\" class=\"row_heading level0 row6\" >6</th>\n",
       "      <td id=\"T_9161d_row6_col0\" class=\"data row6 col0\" >2020</td>\n",
       "      <td id=\"T_9161d_row6_col1\" class=\"data row6 col1\" >563</td>\n",
       "      <td id=\"T_9161d_row6_col2\" class=\"data row6 col2\" >0.070000</td>\n",
       "    </tr>\n",
       "    <tr>\n",
       "      <th id=\"T_9161d_level0_row7\" class=\"row_heading level0 row7\" >7</th>\n",
       "      <td id=\"T_9161d_row7_col0\" class=\"data row7 col0\" >2013</td>\n",
       "      <td id=\"T_9161d_row7_col1\" class=\"data row7 col1\" >518</td>\n",
       "      <td id=\"T_9161d_row7_col2\" class=\"data row7 col2\" >0.060000</td>\n",
       "    </tr>\n",
       "    <tr>\n",
       "      <th id=\"T_9161d_level0_row8\" class=\"row_heading level0 row8\" >8</th>\n",
       "      <td id=\"T_9161d_row8_col0\" class=\"data row8 col0\" >2012</td>\n",
       "      <td id=\"T_9161d_row8_col1\" class=\"data row8 col1\" >325</td>\n",
       "      <td id=\"T_9161d_row8_col2\" class=\"data row8 col2\" >0.040000</td>\n",
       "    </tr>\n",
       "    <tr>\n",
       "      <th id=\"T_9161d_level0_row9\" class=\"row_heading level0 row9\" >9</th>\n",
       "      <td id=\"T_9161d_row9_col0\" class=\"data row9 col0\" >2011</td>\n",
       "      <td id=\"T_9161d_row9_col1\" class=\"data row9 col1\" >264</td>\n",
       "      <td id=\"T_9161d_row9_col2\" class=\"data row9 col2\" >0.030000</td>\n",
       "    </tr>\n",
       "  </tbody>\n",
       "</table>\n"
      ],
      "text/plain": [
       "<pandas.io.formats.style.Styler at 0x20fe550be20>"
      ]
     },
     "execution_count": 88,
     "metadata": {},
     "output_type": "execute_result"
    }
   ],
   "source": [
    "# top manufacturing year\n",
    "year = car.Year.value_counts().to_frame()\n",
    "year= year.reset_index()\n",
    "year.rename(columns= {'index': 'Year', 'Year': 'Count'}, inplace= True)\n",
    "year['Percentage'] = (year.Count / year.Count.sum()).round(2)\n",
    "year.iloc[:10].style.bar(subset=['Count', 'Percentage'], color='steelblue')"
   ]
  },
  {
   "cell_type": "code",
   "execution_count": 89,
   "metadata": {},
   "outputs": [],
   "source": [
    "def vis(data):\n",
    "    ''' visulaize car maker  \n",
    "    '''\n",
    "    plt.subplots(figsize=(12,8))\n",
    "    plt.xticks(rotation=50)\n",
    "    plt.title('The largest car maker in the website:' \"\\n\" , size= 16)\n",
    "    data.Make.value_counts().plot.bar();"
   ]
  },
  {
   "cell_type": "code",
   "execution_count": 90,
   "metadata": {},
   "outputs": [
    {
     "data": {
      "image/png": "[encoded data removed]",
      "text/plain": [
       "<Figure size 864x576 with 1 Axes>"
      ]
     },
     "metadata": {
      "needs_background": "light"
     },
     "output_type": "display_data"
    }
   ],
   "source": [
    "vis(car)"
   ]
  },
  {
   "cell_type": "markdown",
   "metadata": {},
   "source": [
    "## Processing Price Column "
   ]
  },
  {
   "cell_type": "code",
   "execution_count": 91,
   "metadata": {},
   "outputs": [],
   "source": [
    "# convert any text in price column to null value to drop it , also drop 0 and 1 values\n",
    "car.Price = car.Price.str.extract(r'([\\d:,.]+)')\n",
    "car.loc[(car.Price == \"0\") | (car.Price == \"1\"),'Price'] = np.nan"
   ]
  },
  {
   "cell_type": "code",
   "execution_count": 92,
   "metadata": {},
   "outputs": [
    {
     "data": {
      "text/plain": [
       "0       114000\n",
       "2        27500\n",
       "3        43000\n",
       "4        59500\n",
       "5        72000\n",
       "         ...  \n",
       "8242     15000\n",
       "8243     75000\n",
       "8244     53000\n",
       "8246     22000\n",
       "8247     40000\n",
       "Name: Price, Length: 5634, dtype: int64"
      ]
     },
     "execution_count": 92,
     "metadata": {},
     "output_type": "execute_result"
    }
   ],
   "source": [
    "car.dropna(subset= ['Price'], inplace=True)\n",
    "car.Price = car.Price.astype('int64')\n",
    "car.Price"
   ]
  },
  {
   "cell_type": "markdown",
   "metadata": {},
   "source": [
    "## Price distribution for the top car maker since 2018"
   ]
  },
  {
   "cell_type": "code",
   "execution_count": 99,
   "metadata": {},
   "outputs": [
    {
     "data": {
      "image/png": "[encoded data removed]",
      "text/plain": [
       "<Figure size 864x432 with 1 Axes>"
      ]
     },
     "metadata": {
      "needs_background": "light"
     },
     "output_type": "display_data"
    }
   ],
   "source": [
    "f, ax = plt.subplots(figsize=(12,6))\n",
    "car[(car.Make == \"Toyota\")]['Price'].hist(bins=20);\n",
    "ax.grid(False)\n",
    "plt.title('Prices distribution of Toyota used cars' \"\\n\", size= 16)\n",
    "plt.xlabel('Price');\n",
    "plt.ylabel('Count');\n",
    "plt.show();"
   ]
  },
  {
   "cell_type": "code",
   "execution_count": 94,
   "metadata": {},
   "outputs": [
    {
     "data": {
      "text/plain": [
       "850"
      ]
     },
     "execution_count": 94,
     "metadata": {},
     "output_type": "execute_result"
    }
   ],
   "source": [
    "car[(car.Make == \"Toyota\")]['Price'].min()"
   ]
  },
  {
   "cell_type": "markdown",
   "metadata": {},
   "source": [
    "### What's the type cars for the largest car maker?"
   ]
  },
  {
   "cell_type": "code",
   "execution_count": 95,
   "metadata": {},
   "outputs": [
    {
     "data": {
      "text/plain": [
       "Camry                  0.037096\n",
       "Land Cruiser           0.036031\n",
       "Hilux                  0.028044\n",
       "Corolla                0.023607\n",
       "Furniture              0.015619\n",
       "Prado                  0.013845\n",
       "Yaris                  0.013667\n",
       "Innova                 0.009762\n",
       "FJ                     0.008520\n",
       "Avalon                 0.006922\n",
       "Rav4                   0.006212\n",
       "Hiace                  0.006035\n",
       "Land Cruiser Pickup    0.005857\n",
       "Ciocca                 0.003727\n",
       "Land Cruiser 70        0.003372\n",
       "Previa                 0.001597\n",
       "Coaster                0.001420\n",
       "Cressida               0.001420\n",
       "Avanza                 0.001242\n",
       "Rush                   0.000887\n",
       "Aurion                 0.000887\n",
       "Toyota 86              0.000532\n",
       "Echo                   0.000177\n",
       "Dyna                   0.000177\n",
       "C-HR                   0.000177\n",
       "Tundra                 0.000177\n",
       "Prius                  0.000177\n",
       "4Runner                0.000177\n",
       "Name: Type, dtype: float64"
      ]
     },
     "execution_count": 95,
     "metadata": {},
     "output_type": "execute_result"
    }
   ],
   "source": [
    "car[car.Make == \"Toyota\"].Type.value_counts() / car.shape[0]"
   ]
  },
  {
   "cell_type": "markdown",
   "metadata": {},
   "source": [
    "### What are the types of used cars that are not negotiable?"
   ]
  },
  {
   "cell_type": "code",
   "execution_count": 96,
   "metadata": {},
   "outputs": [
    {
     "data": {
      "text/html": [
       "<div>\n",
       "<style scoped>\n",
       "    .dataframe tbody tr th:only-of-type {\n",
       "        vertical-align: middle;\n",
       "    }\n",
       "\n",
       "    .dataframe tbody tr th {\n",
       "        vertical-align: top;\n",
       "    }\n",
       "\n",
       "    .dataframe thead th {\n",
       "        text-align: right;\n",
       "    }\n",
       "</style>\n",
       "<table border=\"1\" class=\"dataframe\">\n",
       "  <thead>\n",
       "    <tr style=\"text-align: right;\">\n",
       "      <th></th>\n",
       "      <th>Make</th>\n",
       "      <th>Type</th>\n",
       "      <th>Count</th>\n",
       "    </tr>\n",
       "  </thead>\n",
       "  <tbody>\n",
       "    <tr>\n",
       "      <th>161</th>\n",
       "      <td>Hyundai</td>\n",
       "      <td>Accent</td>\n",
       "      <td>212</td>\n",
       "    </tr>\n",
       "    <tr>\n",
       "      <th>374</th>\n",
       "      <td>Toyota</td>\n",
       "      <td>Camry</td>\n",
       "      <td>209</td>\n",
       "    </tr>\n",
       "    <tr>\n",
       "      <th>386</th>\n",
       "      <td>Toyota</td>\n",
       "      <td>Land Cruiser</td>\n",
       "      <td>203</td>\n",
       "    </tr>\n",
       "    <tr>\n",
       "      <th>175</th>\n",
       "      <td>Hyundai</td>\n",
       "      <td>Sonata</td>\n",
       "      <td>161</td>\n",
       "    </tr>\n",
       "    <tr>\n",
       "      <th>384</th>\n",
       "      <td>Toyota</td>\n",
       "      <td>Hilux</td>\n",
       "      <td>158</td>\n",
       "    </tr>\n",
       "    <tr>\n",
       "      <th>...</th>\n",
       "      <td>...</td>\n",
       "      <td>...</td>\n",
       "      <td>...</td>\n",
       "    </tr>\n",
       "    <tr>\n",
       "      <th>301</th>\n",
       "      <td>Mitsubishi</td>\n",
       "      <td>Nativa</td>\n",
       "      <td>1</td>\n",
       "    </tr>\n",
       "    <tr>\n",
       "      <th>300</th>\n",
       "      <td>Mitsubishi</td>\n",
       "      <td>Montero</td>\n",
       "      <td>1</td>\n",
       "    </tr>\n",
       "    <tr>\n",
       "      <th>166</th>\n",
       "      <td>Hyundai</td>\n",
       "      <td>Coupe S</td>\n",
       "      <td>1</td>\n",
       "    </tr>\n",
       "    <tr>\n",
       "      <th>298</th>\n",
       "      <td>Mitsubishi</td>\n",
       "      <td>L300</td>\n",
       "      <td>1</td>\n",
       "    </tr>\n",
       "    <tr>\n",
       "      <th>409</th>\n",
       "      <td>Škoda</td>\n",
       "      <td>Superb</td>\n",
       "      <td>1</td>\n",
       "    </tr>\n",
       "  </tbody>\n",
       "</table>\n",
       "<p>410 rows × 3 columns</p>\n",
       "</div>"
      ],
      "text/plain": [
       "           Make          Type  Count\n",
       "161     Hyundai        Accent    212\n",
       "374      Toyota         Camry    209\n",
       "386      Toyota  Land Cruiser    203\n",
       "175     Hyundai        Sonata    161\n",
       "384      Toyota         Hilux    158\n",
       "..          ...           ...    ...\n",
       "301  Mitsubishi        Nativa      1\n",
       "300  Mitsubishi       Montero      1\n",
       "166     Hyundai       Coupe S      1\n",
       "298  Mitsubishi          L300      1\n",
       "409       Škoda        Superb      1\n",
       "\n",
       "[410 rows x 3 columns]"
      ]
     },
     "execution_count": 96,
     "metadata": {},
     "output_type": "execute_result"
    }
   ],
   "source": [
    "Top_type = pd.pivot_table(car, index=['Make', 'Type'],\n",
    "                    aggfunc={'Type': np.count_nonzero})\n",
    "Top_type.rename(columns ={'Type': 'Count'}, inplace= True)\n",
    "Top_type= Top_type.reset_index().sort_values(by= 'Count', ascending= False)\n",
    "Top_type"
   ]
  },
  {
   "cell_type": "markdown",
   "metadata": {},
   "source": [
    "### The time serise price of the top car type"
   ]
  },
  {
   "cell_type": "code",
   "execution_count": 97,
   "metadata": {},
   "outputs": [
    {
     "data": {
      "image/png": "[encoded data removed]",
      "text/plain": [
       "<Figure size 864x432 with 1 Axes>"
      ]
     },
     "metadata": {
      "needs_background": "light"
     },
     "output_type": "display_data"
    }
   ],
   "source": [
    "f, ax = plt.subplots(figsize=(12,6))\n",
    "plt.title('Prices distribution of Accent' \"\\n\", size= 16)\n",
    "sns.lineplot(x='Year', y=\"Price\", data=car[car.Type == \"Accent\"]);"
   ]
  },
  {
   "cell_type": "markdown",
   "metadata": {},
   "source": [
    "### Highlight the expensive prices"
   ]
  },
  {
   "cell_type": "code",
   "execution_count": 98,
   "metadata": {},
   "outputs": [
    {
     "data": {
      "image/png": "[encoded data removed]",
      "text/plain": [
       "<Figure size 864x432 with 1 Axes>"
      ]
     },
     "metadata": {
      "needs_background": "light"
     },
     "output_type": "display_data"
    }
   ],
   "source": [
    "plt.subplots(figsize=(12,6))\n",
    "plt.xticks(rotation=50)\n",
    "plt.title('Prices distribution of the most expensive cars (250,000 - 1,000,000) ' \"\\n\", size= 16)\n",
    "sns.scatterplot(data=car[(car.Price > 250000) & (car.Price <= 1000000)], \n",
    "                x=\"Make\", y=\"Price\", hue=\"Options\", palette=\"deep\");"
   ]
  }
 ],
 "metadata": {
  "kernelspec": {
   "display_name": "Python 3",
   "language": "python",
   "name": "python3"
  },
  "language_info": {
   "codemirror_mode": {
    "name": "ipython",
    "version": 3
   },
   "file_extension": ".py",
   "mimetype": "text/x-python",
   "name": "python",
   "nbconvert_exporter": "python",
   "pygments_lexer": "ipython3",
   "version": "3.8.5"
  }
 },
 "nbformat": 4,
 "nbformat_minor": 4
}
